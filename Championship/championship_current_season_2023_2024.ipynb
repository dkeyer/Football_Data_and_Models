{
 "cells": [
  {
   "cell_type": "markdown",
   "id": "e2b1a92e",
   "metadata": {},
   "source": [
    "# Get League Table and Stats"
   ]
  },
  {
   "cell_type": "code",
   "execution_count": 157,
   "id": "d8ef5e6b",
   "metadata": {},
   "outputs": [],
   "source": [
    "import requests\n",
    "from bs4 import BeautifulSoup\n",
    "import pandas as pd\n",
    "from datetime import datetime\n",
    "import numpy as np"
   ]
  },
  {
   "cell_type": "code",
   "execution_count": 158,
   "id": "40e2aabe",
   "metadata": {},
   "outputs": [],
   "source": [
    "# URL of the website\n",
    "url = \"https://fbref.com/en/comps/10/Championship-Stats\"\n",
    "\n",
    "# Send a GET request to the URL\n",
    "response = requests.get(url)\n",
    "\n",
    "# Check if the request was successful (status code 200)\n",
    "    # Parse the HTML content of the page\n",
    "soup = BeautifulSoup(response.text, \"html.parser\")\n",
    "\n",
    "    # Find the table using its HTML class\n",
    "table = soup.find(\"table\", {\"class\": \"stats_table\"})\n",
    "\n",
    "    # Extract table data into a list of lists\n",
    "table_data = []\n",
    "for row in table.find_all(\"tr\"):\n",
    "    row_data = [cell.text.strip() for cell in row.find_all([\"th\", \"td\"])]\n",
    "    table_data.append(row_data)\n",
    "\n",
    "    # Create a DataFrame from the list of lists\n",
    "columns = table_data[0]  # Assuming the first row contains column headers\n",
    "data = table_data[1:]\n",
    "league_table_df = pd.DataFrame(data, columns=columns)"
   ]
  },
  {
   "cell_type": "markdown",
   "id": "475585bc",
   "metadata": {},
   "source": [
    "# Get Fixtures "
   ]
  },
  {
   "cell_type": "code",
   "execution_count": 159,
   "id": "32813dca",
   "metadata": {},
   "outputs": [],
   "source": [
    "# URL of the website\n",
    "url = \"https://fbref.com/en/comps/10/schedule/Championship-Scores-and-Fixtures\"\n",
    "\n",
    "# Send a GET request to the URL\n",
    "response = requests.get(url)\n",
    "\n",
    "# Check if the request was successful (status code 200)\n",
    "if response.status_code == 200:\n",
    "    # Parse the HTML content of the page\n",
    "    soup = BeautifulSoup(response.text, \"html.parser\")\n",
    "\n",
    "    # Find the table containing fixtures\n",
    "    table = soup.find(\"table\", {\"class\": \"stats_table\"})\n",
    "\n",
    "    # Extract data into a list of dictionaries\n",
    "    fixtures_data = []\n",
    "    for row in table.find_all(\"tr\")[1:]:  # Skip the header row\n",
    "        columns = row.find_all([\"th\", \"td\"])\n",
    "        \n",
    "         # Extracting specific columns based on the structure of the table\n",
    "        fixture_type = columns[0].text.strip()\n",
    "        weekday = columns[1].text.strip()\n",
    "        date = columns[2].text.strip()\n",
    "        time = columns[3].text.strip()\n",
    "        home_team = columns[4].text.strip()\n",
    "        home_xG = columns[5].text.strip()\n",
    "        result = columns[6].text.strip()\n",
    "        away_xG = columns[7].text.strip()\n",
    "        away_team = columns[8].text.strip()\n",
    "        attendance = columns[9].text.strip()\n",
    "        stadium = columns[10].text.strip()\n",
    "        referee = columns[11].text.strip()\n",
    "\n",
    "        fixture_info = {\n",
    "            \"fixture_type\": fixture_type,\n",
    "            \"weekday\": weekday,\n",
    "            \"date\": date,\n",
    "            \"time\": time,\n",
    "            \"home_team\": home_team,\n",
    "            \"home_xG\": home_xG,\n",
    "            \"result\": result,\n",
    "            \"away_xG\": away_xG,\n",
    "            \"away_team\": away_team,\n",
    "            \"attendance\": attendance,\n",
    "            \"stadium\": stadium,\n",
    "            \"referee\": referee\n",
    "        }\n",
    "\n",
    "        fixtures_data.append(fixture_info)\n",
    "\n",
    "    # Create a DataFrame from the list of dictionaries\n",
    "    fixtures_table = pd.DataFrame(fixtures_data)"
   ]
  },
  {
   "cell_type": "code",
   "execution_count": 160,
   "id": "e3777001",
   "metadata": {},
   "outputs": [
    {
     "data": {
      "text/html": [
       "<div>\n",
       "<style scoped>\n",
       "    .dataframe tbody tr th:only-of-type {\n",
       "        vertical-align: middle;\n",
       "    }\n",
       "\n",
       "    .dataframe tbody tr th {\n",
       "        vertical-align: top;\n",
       "    }\n",
       "\n",
       "    .dataframe thead th {\n",
       "        text-align: right;\n",
       "    }\n",
       "</style>\n",
       "<table border=\"1\" class=\"dataframe\">\n",
       "  <thead>\n",
       "    <tr style=\"text-align: right;\">\n",
       "      <th></th>\n",
       "      <th>fixture_type</th>\n",
       "      <th>weekday</th>\n",
       "      <th>date</th>\n",
       "      <th>time</th>\n",
       "      <th>home_team</th>\n",
       "      <th>home_xG</th>\n",
       "      <th>result</th>\n",
       "      <th>away_xG</th>\n",
       "      <th>away_team</th>\n",
       "      <th>attendance</th>\n",
       "      <th>stadium</th>\n",
       "      <th>referee</th>\n",
       "    </tr>\n",
       "  </thead>\n",
       "  <tbody>\n",
       "    <tr>\n",
       "      <th>0</th>\n",
       "      <td>1</td>\n",
       "      <td>Fri</td>\n",
       "      <td>2023-08-04</td>\n",
       "      <td>20:00</td>\n",
       "      <td>Sheffield Weds</td>\n",
       "      <td>0.5</td>\n",
       "      <td>1–2</td>\n",
       "      <td>1.4</td>\n",
       "      <td>Southampton</td>\n",
       "      <td>28,558</td>\n",
       "      <td>Hillsborough Stadium</td>\n",
       "      <td>Robert Madley</td>\n",
       "    </tr>\n",
       "    <tr>\n",
       "      <th>1</th>\n",
       "      <td>1</td>\n",
       "      <td>Sat</td>\n",
       "      <td>2023-08-05</td>\n",
       "      <td>15:00</td>\n",
       "      <td>Bristol City</td>\n",
       "      <td>0.9</td>\n",
       "      <td>1–1</td>\n",
       "      <td>1.3</td>\n",
       "      <td>Preston</td>\n",
       "      <td>29,359</td>\n",
       "      <td>Ashton Gate Stadium</td>\n",
       "      <td>David Webb</td>\n",
       "    </tr>\n",
       "    <tr>\n",
       "      <th>2</th>\n",
       "      <td>1</td>\n",
       "      <td>Sat</td>\n",
       "      <td>2023-08-05</td>\n",
       "      <td>15:00</td>\n",
       "      <td>Plymouth Argyle</td>\n",
       "      <td>2.4</td>\n",
       "      <td>3–1</td>\n",
       "      <td>2.0</td>\n",
       "      <td>Huddersfield</td>\n",
       "      <td>16,446</td>\n",
       "      <td>Home Park</td>\n",
       "      <td>Matt Donohue</td>\n",
       "    </tr>\n",
       "    <tr>\n",
       "      <th>3</th>\n",
       "      <td>1</td>\n",
       "      <td>Sat</td>\n",
       "      <td>2023-08-05</td>\n",
       "      <td>15:00</td>\n",
       "      <td>Stoke City</td>\n",
       "      <td>2.4</td>\n",
       "      <td>4–1</td>\n",
       "      <td>0.9</td>\n",
       "      <td>Rotherham Utd</td>\n",
       "      <td>22,601</td>\n",
       "      <td>Bet365 Stadium</td>\n",
       "      <td>John Busby</td>\n",
       "    </tr>\n",
       "    <tr>\n",
       "      <th>4</th>\n",
       "      <td>1</td>\n",
       "      <td>Sat</td>\n",
       "      <td>2023-08-05</td>\n",
       "      <td>15:00</td>\n",
       "      <td>Middlesbrough</td>\n",
       "      <td>0.8</td>\n",
       "      <td>0–1</td>\n",
       "      <td>1.2</td>\n",
       "      <td>Millwall</td>\n",
       "      <td>29,359</td>\n",
       "      <td>Riverside Stadium</td>\n",
       "      <td>Gavin Ward</td>\n",
       "    </tr>\n",
       "  </tbody>\n",
       "</table>\n",
       "</div>"
      ],
      "text/plain": [
       "  fixture_type weekday        date   time        home_team home_xG result  \\\n",
       "0            1     Fri  2023-08-04  20:00   Sheffield Weds     0.5    1–2   \n",
       "1            1     Sat  2023-08-05  15:00     Bristol City     0.9    1–1   \n",
       "2            1     Sat  2023-08-05  15:00  Plymouth Argyle     2.4    3–1   \n",
       "3            1     Sat  2023-08-05  15:00       Stoke City     2.4    4–1   \n",
       "4            1     Sat  2023-08-05  15:00    Middlesbrough     0.8    0–1   \n",
       "\n",
       "  away_xG      away_team attendance               stadium        referee  \n",
       "0     1.4    Southampton     28,558  Hillsborough Stadium  Robert Madley  \n",
       "1     1.3        Preston     29,359   Ashton Gate Stadium     David Webb  \n",
       "2     2.0   Huddersfield     16,446             Home Park   Matt Donohue  \n",
       "3     0.9  Rotherham Utd     22,601        Bet365 Stadium     John Busby  \n",
       "4     1.2       Millwall     29,359     Riverside Stadium     Gavin Ward  "
      ]
     },
     "execution_count": 160,
     "metadata": {},
     "output_type": "execute_result"
    }
   ],
   "source": [
    "fixtures_table.head()\n",
    "#need to fix from attendance on"
   ]
  },
  {
   "cell_type": "code",
   "execution_count": 161,
   "id": "214bbce3",
   "metadata": {},
   "outputs": [],
   "source": [
    "fixtures_table['is_game_complete'] = np.where(len(fixtures_table['result']) > 0, 1, 0)\n",
    "#Checking to see if game is complete... if the result column is populated at all, it's been played"
   ]
  },
  {
   "cell_type": "markdown",
   "id": "2471532f",
   "metadata": {},
   "source": [
    "# Getting Game IDs"
   ]
  },
  {
   "cell_type": "code",
   "execution_count": 162,
   "id": "fb9c4cd5",
   "metadata": {},
   "outputs": [],
   "source": [
    "# URL of the website\n",
    "url = \"https://fbref.com/en/comps/10/schedule/Championship-Scores-and-Fixtures\"\n",
    "\n",
    "# Parse the HTML content of the page\n",
    "soup = BeautifulSoup(response.text, 'html.parser')\n",
    "\n",
    "# Find all <td> elements with data-stat=\"score\"\n",
    "score_cells = soup.find_all('td', {'data-stat': 'score'})\n",
    "\n",
    "# Extract game IDs from the <a> tags within the score_cells, the third element is the game ID\n",
    "game_ids = [cell.find('a')['href'].split('/')[3] for cell in score_cells if cell.find('a')]\n",
    "# Then strip the white space in the IDs\n",
    "game_ids = [x.strip(' ') for x in game_ids]"
   ]
  },
  {
   "cell_type": "code",
   "execution_count": 163,
   "id": "ae5d02ed",
   "metadata": {},
   "outputs": [],
   "source": [
    "game_ids = game_ids[0:4]\n",
    "#just use three to test"
   ]
  },
  {
   "cell_type": "markdown",
   "id": "e1395c59",
   "metadata": {},
   "source": [
    "# Scraping Shot Data"
   ]
  },
  {
   "cell_type": "code",
   "execution_count": 164,
   "id": "669a070c",
   "metadata": {
    "scrolled": true
   },
   "outputs": [],
   "source": [
    "all_data = []\n",
    "\n",
    "for unique_id in game_ids:\n",
    "    # URL of the page to scrape\n",
    "    url = f'https://fbref.com/en/matches/{unique_id}/'\n",
    "\n",
    "    # Get the game ID from the URL\n",
    "    game_id = url.split(\"/\")[-2]\n",
    "\n",
    "    # Send a GET request to the URL\n",
    "    response = requests.get(url)\n",
    "    soup = BeautifulSoup(response.content, \"html.parser\")\n",
    "\n",
    "    # Find the Shots table on the page\n",
    "    shots_table = soup.find(\"div\", {\"id\": \"switcher_shots\"})\n",
    "\n",
    "    # Create empty lists to store data and create the columns\n",
    "    data = []\n",
    "    headers = ['game_id', 'minute', 'player', 'team', 'xG', 'psxG', 'result', 'distance', 'body_part', 'notes', 'sca_1_player', 'event_1', 'sca_2_player', 'event_2']\n",
    "\n",
    "    # Extract table rows\n",
    "    rows = shots_table.find(\"tbody\").find_all(\"tr\")\n",
    "    for row in rows:\n",
    "        row_data = [game_id] + [cell.get_text().strip() for cell in row.find_all([\"th\", \"td\"])]\n",
    "        data.append(row_data)\n",
    "\n",
    "    # Find the home and away teams and formations\n",
    "    team_headers = soup.find_all(\"th\", {\"colspan\": \"2\"})\n",
    "    teams = [header.text.strip().split(\" (\")[0] for header in team_headers if \"(\" in header.text.strip()]\n",
    "    formations = [header.text.strip().split(\" (\")[1][:-1] for header in team_headers if \"(\" in header.text.strip()]\n",
    "\n",
    "    # Extracting the home and away teams and formations\n",
    "    home_team = teams[0]\n",
    "    away_team = teams[1]\n",
    "    home_formation = formations[0]\n",
    "    away_formation = formations[1]\n",
    "\n",
    "    # Find the location and match date\n",
    "    location = soup.find(\"div\", {\"class\": \"scorebox_meta\"}).find_all(\"small\")[3].text\n",
    "    match_date = soup.find(\"span\", class_=\"venuetime\").get(\"data-venue-date\", None)\n",
    "\n",
    "    # Append additional columns to headers\n",
    "    headers.extend(['home_team', 'away_team', 'home_formation', 'away_formation', 'location', 'match_date'])\n",
    "\n",
    "    # Append data to all_data with additional columns\n",
    "    for row in data:\n",
    "        row.extend([home_team, away_team, home_formation, away_formation, location, match_date])\n",
    "        all_data.append(row)\n",
    "        \n",
    "# Create a DataFrame from the scraped data\n",
    "shots_df = pd.DataFrame(all_data, columns=headers)"
   ]
  },
  {
   "cell_type": "code",
   "execution_count": 165,
   "id": "1995eb33",
   "metadata": {},
   "outputs": [],
   "source": [
    "# Add \n",
    "shots_df['is_home_shot'] = np.where(shots_df['team'] == shots_df['home_team'], 1, 0)\n",
    "shots_df['is_away_shot'] = np.where(shots_df['team'] ==  shots_df['away_team'], 1, 0)\n",
    "shots_df['location'] = location\n",
    "shots_df['match_date'] = match_date\n",
    "shots_df['competition'] = 'English Championship'"
   ]
  },
  {
   "cell_type": "code",
   "execution_count": 166,
   "id": "24aba5b2",
   "metadata": {},
   "outputs": [],
   "source": [
    "# Define a function to calculate total score for each game\n",
    "def calculate_total_score(group, shot):\n",
    "    total_score = 0\n",
    "    total_scores = []\n",
    "\n",
    "    # Flag to indicate whether the current row is after a 'Goal'\n",
    "    after_goal = False\n",
    "\n",
    "    for idx, (result, is_shot) in enumerate(zip(group, shot)):\n",
    "        # Check if the current row is after a 'Goal'\n",
    "        if after_goal:\n",
    "            # Increment the total score\n",
    "            total_score += 1\n",
    "            # Reset the flag\n",
    "            after_goal = False\n",
    "\n",
    "        # Check if the current result is 'Goal' and the corresponding shot is 1\n",
    "        if result == 'Goal' and is_shot == 1:\n",
    "            # Set the flag to True for the next iteration\n",
    "            after_goal = True\n",
    "        \n",
    "        # Append the current total score\n",
    "        total_scores.append(total_score)\n",
    "\n",
    "    return total_scores\n",
    "\n",
    "# Group by game_id and apply the function to calculate total score for home team\n",
    "shots_df['home_score'] = shots_df.groupby('game_id')['result'].transform(lambda x: calculate_total_score(x, shots_df['is_home_shot']))\n",
    "\n",
    "# Group by game_id and apply the function to calculate total score for away team\n",
    "shots_df['away_score'] = shots_df.groupby('game_id')['result'].transform(lambda x: calculate_total_score(x, shots_df['is_away_shot']))\n"
   ]
  },
  {
   "cell_type": "code",
   "execution_count": 167,
   "id": "dca1439e",
   "metadata": {},
   "outputs": [],
   "source": [
    "#Creating a nil nil column using numpy where and logical_and operators\n",
    "shots_df['is_nil_nil'] = np.where(np.logical_and(shots_df['home_score'] == 0, shots_df['away_score'] == 0), 1, 0)"
   ]
  },
  {
   "cell_type": "code",
   "execution_count": 169,
   "id": "f24e63a1",
   "metadata": {},
   "outputs": [],
   "source": [
    "#Adding opposing team -- Whenever it's a home shot we want the away team, otherwise (away shot) we want the home team\n",
    "shots_df['opposing_team'] = np.where(shots_df['is_home_shot'] == 1, shots_df['away_team'], shots_df['home_team'])"
   ]
  },
  {
   "cell_type": "code",
   "execution_count": 188,
   "id": "3cd079f4",
   "metadata": {},
   "outputs": [],
   "source": [
    "#Replace blank values with nulls\n",
    "shots_df['xG'] = shots_df['xG'].replace('', np.nan)\n",
    "\n",
    "#Then drop them\n",
    "shots_df = shots_df.dropna(subset=['xG'])"
   ]
  },
  {
   "cell_type": "code",
   "execution_count": 192,
   "id": "721f171c",
   "metadata": {},
   "outputs": [
    {
     "name": "stderr",
     "output_type": "stream",
     "text": [
      "C:\\Users\\User\\AppData\\Local\\Temp/ipykernel_13704/2444797194.py:1: SettingWithCopyWarning: \n",
      "A value is trying to be set on a copy of a slice from a DataFrame.\n",
      "Try using .loc[row_indexer,col_indexer] = value instead\n",
      "\n",
      "See the caveats in the documentation: https://pandas.pydata.org/pandas-docs/stable/user_guide/indexing.html#returning-a-view-versus-a-copy\n",
      "  shots_df['xG'] = shots_df['xG'].astype('float64')\n"
     ]
    }
   ],
   "source": [
    "shots_df['xG'] = shots_df['xG'].astype('float64') "
   ]
  },
  {
   "cell_type": "markdown",
   "id": "cac7285e",
   "metadata": {},
   "source": [
    "# Adding xG while nil-nil to league_table_df"
   ]
  },
  {
   "cell_type": "code",
   "execution_count": 197,
   "id": "a1a50ddf",
   "metadata": {},
   "outputs": [],
   "source": [
    "# Filter shots_df where is_nil_nil is 0\n",
    "filtered_shots_df = shots_df[shots_df['is_nil_nil'] == 1]\n",
    "\n",
    "# Calculate the sum of 'xG' for each 'team'\n",
    "team_xG_sum = filtered_shots_df.groupby('team')['xG'].sum().reset_index()\n",
    "\n",
    "# Create a dictionary to map team names to their respective summed 'xG' values\n",
    "team_xG_dict = dict(zip(team_xG_sum['team'], team_xG_sum['xG']))\n",
    "\n",
    "# Add 'nil_nil_xG' column to league_table_df by mapping team names to their summed 'xG' values\n",
    "league_table_df['nil_nil_xG'] = league_table_df['Squad'].map(team_xG_dict)\n",
    "\n",
    "# Fill NaN values with 0 if any team didn't have any 'xG' when is_nil_nil is 0\n",
    "league_table_df['nil_nil_xG'].fillna(0, inplace=True)\n"
   ]
  },
  {
   "cell_type": "code",
   "execution_count": 200,
   "id": "123509b2",
   "metadata": {},
   "outputs": [
    {
     "data": {
      "text/html": [
       "<div>\n",
       "<style scoped>\n",
       "    .dataframe tbody tr th:only-of-type {\n",
       "        vertical-align: middle;\n",
       "    }\n",
       "\n",
       "    .dataframe tbody tr th {\n",
       "        vertical-align: top;\n",
       "    }\n",
       "\n",
       "    .dataframe thead th {\n",
       "        text-align: right;\n",
       "    }\n",
       "</style>\n",
       "<table border=\"1\" class=\"dataframe\">\n",
       "  <thead>\n",
       "    <tr style=\"text-align: right;\">\n",
       "      <th></th>\n",
       "      <th>team</th>\n",
       "      <th>xG</th>\n",
       "    </tr>\n",
       "  </thead>\n",
       "  <tbody>\n",
       "    <tr>\n",
       "      <th>0</th>\n",
       "      <td>Bristol City</td>\n",
       "      <td>0.88</td>\n",
       "    </tr>\n",
       "    <tr>\n",
       "      <th>1</th>\n",
       "      <td>Plymouth Argyle</td>\n",
       "      <td>0.75</td>\n",
       "    </tr>\n",
       "    <tr>\n",
       "      <th>2</th>\n",
       "      <td>Sheffield Weds</td>\n",
       "      <td>0.36</td>\n",
       "    </tr>\n",
       "    <tr>\n",
       "      <th>3</th>\n",
       "      <td>Southampton</td>\n",
       "      <td>0.07</td>\n",
       "    </tr>\n",
       "    <tr>\n",
       "      <th>4</th>\n",
       "      <td>Stoke City</td>\n",
       "      <td>0.20</td>\n",
       "    </tr>\n",
       "  </tbody>\n",
       "</table>\n",
       "</div>"
      ],
      "text/plain": [
       "              team    xG\n",
       "0     Bristol City  0.88\n",
       "1  Plymouth Argyle  0.75\n",
       "2   Sheffield Weds  0.36\n",
       "3      Southampton  0.07\n",
       "4       Stoke City  0.20"
      ]
     },
     "execution_count": 200,
     "metadata": {},
     "output_type": "execute_result"
    }
   ],
   "source": [
    "team_xG_sum"
   ]
  },
  {
   "cell_type": "markdown",
   "id": "a98ffadb",
   "metadata": {},
   "source": [
    "# To Do"
   ]
  },
  {
   "cell_type": "markdown",
   "id": "591d678d",
   "metadata": {},
   "source": [
    "1a. Fix Stadium\n",
    "1b. fix nil nil logic\n",
    "1. EDA\n",
    "2. Start Modeling"
   ]
  },
  {
   "cell_type": "code",
   "execution_count": null,
   "id": "651e5604",
   "metadata": {},
   "outputs": [],
   "source": []
  }
 ],
 "metadata": {
  "kernelspec": {
   "display_name": "Python 3 (ipykernel)",
   "language": "python",
   "name": "python3"
  },
  "language_info": {
   "codemirror_mode": {
    "name": "ipython",
    "version": 3
   },
   "file_extension": ".py",
   "mimetype": "text/x-python",
   "name": "python",
   "nbconvert_exporter": "python",
   "pygments_lexer": "ipython3",
   "version": "3.9.7"
  }
 },
 "nbformat": 4,
 "nbformat_minor": 5
}
