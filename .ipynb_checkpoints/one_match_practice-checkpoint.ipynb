{
 "cells": [
  {
   "cell_type": "code",
   "execution_count": 24,
   "id": "0b59e7ef",
   "metadata": {},
   "outputs": [
    {
     "ename": "IndexError",
     "evalue": "list index out of range",
     "output_type": "error",
     "traceback": [
      "\u001b[1;31m---------------------------------------------------------------------------\u001b[0m",
      "\u001b[1;31mIndexError\u001b[0m                                Traceback (most recent call last)",
      "\u001b[1;32m~\\AppData\\Local\\Temp/ipykernel_8300/2095683088.py\u001b[0m in \u001b[0;36m<module>\u001b[1;34m\u001b[0m\n\u001b[0;32m     31\u001b[0m \u001b[1;33m\u001b[0m\u001b[0m\n\u001b[0;32m     32\u001b[0m \u001b[1;31m# Determine the home and away teams\u001b[0m\u001b[1;33m\u001b[0m\u001b[1;33m\u001b[0m\u001b[0m\n\u001b[1;32m---> 33\u001b[1;33m \u001b[0mhome_team\u001b[0m \u001b[1;33m=\u001b[0m \u001b[0mteam_names\u001b[0m\u001b[1;33m[\u001b[0m\u001b[1;36m0\u001b[0m\u001b[1;33m]\u001b[0m\u001b[1;33m\u001b[0m\u001b[1;33m\u001b[0m\u001b[0m\n\u001b[0m\u001b[0;32m     34\u001b[0m \u001b[0maway_team\u001b[0m \u001b[1;33m=\u001b[0m \u001b[0mteam_names\u001b[0m\u001b[1;33m[\u001b[0m\u001b[1;36m1\u001b[0m\u001b[1;33m]\u001b[0m\u001b[1;33m\u001b[0m\u001b[1;33m\u001b[0m\u001b[0m\n\u001b[0;32m     35\u001b[0m \u001b[1;32mif\u001b[0m \u001b[1;34m\"Huddersfield\"\u001b[0m \u001b[1;32min\u001b[0m \u001b[0mhome_team\u001b[0m\u001b[1;33m:\u001b[0m\u001b[1;33m\u001b[0m\u001b[1;33m\u001b[0m\u001b[0m\n",
      "\u001b[1;31mIndexError\u001b[0m: list index out of range"
     ]
    }
   ],
   "source": [
    "import requests\n",
    "from bs4 import BeautifulSoup\n",
    "import pandas as pd\n",
    "\n",
    "# URL of the page to scrape\n",
    "url = \"https://fbref.com/en/matches/46d9048f/Huddersfield-Town-Burnley-July-29-2022-Championship\"\n",
    "\n",
    "# Extract the game ID from the URL\n",
    "game_id = url.split(\"/\")[-2]\n",
    "\n",
    "# Send a GET request to the URL\n",
    "response = requests.get(url)\n",
    "soup = BeautifulSoup(response.content, \"html.parser\")\n",
    "\n",
    "# Find the Shots table on the page\n",
    "shots_table = soup.find(\"div\", {\"id\": \"switcher_shots\"})\n",
    "\n",
    "# Create empty lists to store data\n",
    "data = []\n",
    "headers = ['Game_ID', 'Minute', 'Player', 'Team', 'Opponent Team', 'Formation', 'xG', 'PSxG', 'Result', 'Distance', 'Body Part', 'Notes', 'SCA 1 Player', 'Event', 'SCA 2 Player', 'Event']\n",
    "\n",
    "# Extract table rows\n",
    "rows = shots_table.find(\"tbody\").find_all(\"tr\")\n",
    "for row in rows:\n",
    "    row_data = [game_id] + [cell.get_text().strip() for cell in row.find_all([\"th\", \"td\"])]\n",
    "    data.append(row_data)\n",
    "\n",
    "# Find the team names\n",
    "team_divs = soup.find_all(\"div\", {\"class\": \"team_abbrev\"})\n",
    "team_names = [team.find_next(\"a\").text for team in team_divs]\n",
    "\n",
    "# Determine the home and away teams\n",
    "home_team = team_names[0]\n",
    "away_team = team_names[1]\n",
    "if \"Huddersfield\" in home_team:\n",
    "    opponent_team = \"Burnley\"\n",
    "else:\n",
    "    opponent_team = \"Huddersfield\"\n",
    "\n",
    "# Find the formation information for each team\n",
    "formation_divs = soup.find_all(\"div\", {\"class\": \"formation\"})\n",
    "formations = [formation.text.strip() for formation in formation_divs]\n",
    "\n",
    "# Create a DataFrame from the scraped data\n",
    "shots_df = pd.DataFrame(data, columns=headers)\n",
    "\n",
    "# Add the opponent team and formation information to the DataFrame\n",
    "shots_df['Team'] = [home_team if team == away_team else away_team for team in shots_df['Team']]\n",
    "shots_df['Opponent Team'] = opponent_team\n",
    "shots_df['Formation'] = formations\n",
    "\n",
    "# Print the DataFrame\n",
    "print(shots_df)\n"
   ]
  },
  {
   "cell_type": "code",
   "execution_count": 25,
   "id": "bb93779d",
   "metadata": {},
   "outputs": [
    {
     "data": {
      "text/plain": [
       "[]"
      ]
     },
     "execution_count": 25,
     "metadata": {},
     "output_type": "execute_result"
    }
   ],
   "source": [
    "team_names"
   ]
  },
  {
   "cell_type": "code",
   "execution_count": null,
   "id": "be67578f",
   "metadata": {},
   "outputs": [],
   "source": []
  }
 ],
 "metadata": {
  "kernelspec": {
   "display_name": "Python 3 (ipykernel)",
   "language": "python",
   "name": "python3"
  },
  "language_info": {
   "codemirror_mode": {
    "name": "ipython",
    "version": 3
   },
   "file_extension": ".py",
   "mimetype": "text/x-python",
   "name": "python",
   "nbconvert_exporter": "python",
   "pygments_lexer": "ipython3",
   "version": "3.9.7"
  }
 },
 "nbformat": 4,
 "nbformat_minor": 5
}
