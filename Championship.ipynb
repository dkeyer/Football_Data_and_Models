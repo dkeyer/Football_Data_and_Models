{
 "cells": [
  {
   "cell_type": "code",
   "execution_count": 4,
   "id": "cff0e6ee",
   "metadata": {},
   "outputs": [],
   "source": [
    "import requests\n",
    "from bs4 import BeautifulSoup\n",
    "import pandas as pd\n",
    "import numpy as np\n",
    "\n",
    "# URL of the page to scrape\n",
    "url = \"https://fbref.com/en/matches/46d9048f/\"\n",
    "\n",
    "# Get the game ID from the URL\n",
    "game_id = url.split(\"/\")[-2]\n",
    "\n",
    "# Send a GET request to the URL\n",
    "response = requests.get(url)\n",
    "soup = BeautifulSoup(response.content, \"html.parser\")\n",
    "\n",
    "# Find the Shots table on the page\n",
    "shots_table = soup.find(\"div\", {\"id\": \"switcher_shots\"})\n",
    "\n",
    "# Create empty lists to store data and create the columns\n",
    "data = []\n",
    "headers = ['Game_ID', 'Minute', 'Player', 'Team', 'xG', 'PSxG', 'Result', 'Distance', 'Body Part', 'Notes', 'SCA 1 Player', 'Event', 'SCA 2 Player', 'Event']\n",
    "\n",
    "# Extract table rows\n",
    "rows = shots_table.find(\"tbody\").find_all(\"tr\")\n",
    "for row in rows:\n",
    "    row_data = [game_id] + [cell.get_text().strip() for cell in row.find_all([\"th\", \"td\"])]\n",
    "    data.append(row_data)\n",
    "\n",
    "# Create a DataFrame from the shot data\n",
    "shots_df = pd.DataFrame(data, columns=headers)\n",
    "\n",
    "# Find the home and away teams and formations\n",
    "team_headers = soup.find_all(\"th\", {\"colspan\": \"2\"})\n",
    "teams = [header.text.strip().split(\" (\")[0] for header in team_headers if \"(\" in header.text.strip()]\n",
    "formations = [header.text.strip().split(\" (\")[1][:-1] for header in team_headers if \"(\" in header.text.strip()]\n",
    "\n",
    "# Extracting the home and away teams and formations\n",
    "home_team = teams[0]\n",
    "away_team = teams[1]\n",
    "home_formation = formations[0]\n",
    "away_formation = formations[1]\n",
    "\n",
    "# Add team information to the DataFrame\n",
    "shots_df['Home_Team'] = home_team\n",
    "shots_df['Away_Team'] = away_team\n",
    "shots_df['Home_Formation'] = home_formation\n",
    "shots_df['Away_Formation'] = away_formation\n",
    "shots_df['is_home_shot'] = np.where(shots_df['Team'] == home_team, 1, 0)\n",
    "shots_df['is_away_shot'] = np.where(shots_df['Team'] == away_team, 1, 0)"
   ]
  },
  {
   "cell_type": "code",
   "execution_count": 6,
   "id": "939f33eb",
   "metadata": {},
   "outputs": [
    {
     "name": "stdout",
     "output_type": "stream",
     "text": [
      "[]\n"
     ]
    }
   ],
   "source": [
    "import requests\n",
    "from bs4 import BeautifulSoup\n",
    "\n",
    "# URL of the page to scrape\n",
    "url = \"https://fbref.com/en/comps/10/2022-2023/schedule/2022-2023-Championship-Scores-and-Fixtures\"\n",
    "\n",
    "# Send a GET request to the URL\n",
    "response = requests.get(url)\n",
    "soup = BeautifulSoup(response.content, \"html.parser\")\n",
    "\n",
    "# Find the rows with game data\n",
    "game_rows = soup.find(\"table\", {\"class\": \"stats_table\"}).find(\"tbody\").find_all(\"tr\")\n",
    "\n",
    "# Extract game IDs\n",
    "game_IDs = [row.get(\"data-game\") for row in game_rows if row.get(\"data-game\")]\n",
    "\n",
    "# Print the game IDs\n",
    "print(game_IDs)\n"
   ]
  },
  {
   "cell_type": "code",
   "execution_count": null,
   "id": "f8c132b3",
   "metadata": {},
   "outputs": [],
   "source": []
  }
 ],
 "metadata": {
  "kernelspec": {
   "display_name": "Python 3 (ipykernel)",
   "language": "python",
   "name": "python3"
  },
  "language_info": {
   "codemirror_mode": {
    "name": "ipython",
    "version": 3
   },
   "file_extension": ".py",
   "mimetype": "text/x-python",
   "name": "python",
   "nbconvert_exporter": "python",
   "pygments_lexer": "ipython3",
   "version": "3.9.7"
  }
 },
 "nbformat": 4,
 "nbformat_minor": 5
}
