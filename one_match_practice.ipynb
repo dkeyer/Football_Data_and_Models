{
 "cells": [
  {
   "cell_type": "code",
   "execution_count": 25,
   "id": "0b59e7ef",
   "metadata": {},
   "outputs": [],
   "source": [
    "import requests\n",
    "from bs4 import BeautifulSoup\n",
    "import pandas as pd\n",
    "\n",
    "# URL of the page to scrape\n",
    "url = \"https://fbref.com/en/matches/46d9048f/Huddersfield-Town-Burnley-July-29-2022-Championship\"\n",
    "\n",
    "# Get the game ID from the URL\n",
    "game_id = url.split(\"/\")[-2]\n",
    "\n",
    "# Send a GET request to the URL\n",
    "response = requests.get(url)\n",
    "soup = BeautifulSoup(response.content, \"html.parser\")\n",
    "\n",
    "# Find the Shots table on the page\n",
    "shots_table = soup.find(\"div\", {\"id\": \"switcher_shots\"})\n",
    "\n",
    "# Create empty lists to store data and create the columns\n",
    "data = []\n",
    "headers = ['Game_ID', 'Minute', 'Player', 'Team', 'xG', 'PSxG', 'Result', 'Distance', 'Body Part', 'Notes', 'SCA 1 Player', 'Event', 'SCA 2 Player', 'Event']\n",
    "\n",
    "# Extract table rows\n",
    "rows = shots_table.find(\"tbody\").find_all(\"tr\")\n",
    "for row in rows:\n",
    "    row_data = [game_id] + [cell.get_text().strip() for cell in row.find_all([\"th\", \"td\"])]\n",
    "    data.append(row_data)\n",
    "\n",
    "# Create a DataFrame from the scraped data\n",
    "shots_df = pd.DataFrame(data, columns=headers)\n"
   ]
  },
  {
   "cell_type": "code",
   "execution_count": 26,
   "id": "bb93779d",
   "metadata": {},
   "outputs": [],
   "source": [
    "both_teams = soup.find_all(\"th\", {\"colspan\": \"2\"})"
   ]
  },
  {
   "cell_type": "code",
   "execution_count": 27,
   "id": "3283ccb0",
   "metadata": {},
   "outputs": [],
   "source": [
    "both_teams_2 = soup.find_all(\"div\", {\"class\": \"lineup\"})"
   ]
  },
  {
   "cell_type": "code",
   "execution_count": 28,
   "id": "be67578f",
   "metadata": {},
   "outputs": [
    {
     "name": "stdout",
     "output_type": "stream",
     "text": [
      "Home Team: Huddersfield\n",
      "Away Team: Burnley\n",
      "Home Formation: 4-1-4-1\n",
      "Away Formation: 4-3-3\n"
     ]
    }
   ],
   "source": [
    "# Your existing code...\n",
    "\n",
    "# Find the home and away teams and formations\n",
    "team_headers = soup.find_all(\"th\", {\"colspan\": \"2\"})\n",
    "teams = [header.text.strip().split(\" (\")[0] for header in team_headers if \"(\" in header.text.strip()]\n",
    "formations = [header.text.strip().split(\" (\")[1][:-1] for header in team_headers if \"(\" in header.text.strip()]\n",
    "\n",
    "# Extracting the home and away teams and formations\n",
    "home_team = teams[0]\n",
    "away_team = teams[1]\n",
    "home_formation = formations[0]\n",
    "away_formation = formations[1]\n",
    "\n",
    "# Your existing code...\n",
    "\n",
    "# Print the home and away teams and formations\n",
    "print(f\"Home Team: {home_team}\")\n",
    "print(f\"Away Team: {away_team}\")\n",
    "print(f\"Home Formation: {home_formation}\")\n",
    "print(f\"Away Formation: {away_formation}\")\n"
   ]
  },
  {
   "cell_type": "code",
   "execution_count": 39,
   "id": "0f389d99",
   "metadata": {},
   "outputs": [
    {
     "name": "stdout",
     "output_type": "stream",
     "text": [
      "     Game_ID Minute                 Player          Team    xG  PSxG  \\\n",
      "0   46d9048f     11            Josh Cullen       Burnley  0.07  0.02   \n",
      "1   46d9048f     14          Ashley Barnes       Burnley  0.06  0.34   \n",
      "2   46d9048f     18            Ian Maatsen       Burnley  0.05  0.28   \n",
      "3   46d9048f     20         Connor Roberts       Burnley  0.21  0.88   \n",
      "4   46d9048f     24         Josh Brownhill       Burnley  0.03  0.20   \n",
      "5   46d9048f     38            Josh Koroma  Huddersfield  0.04         \n",
      "6   46d9048f     40         Dara Costelloe       Burnley  0.23         \n",
      "7   46d9048f     44         Samuel Bastien       Burnley  0.06         \n",
      "8   46d9048f     45         Dara Costelloe       Burnley  0.06         \n",
      "9   46d9048f                                                           \n",
      "10  46d9048f     69         Josh Brownhill       Burnley  0.03         \n",
      "11  46d9048f     74             Danny Ward  Huddersfield  0.05         \n",
      "12  46d9048f     76  Taylor Harwood-Bellis       Burnley  0.04  0.11   \n",
      "13  46d9048f     77            Ian Maatsen       Burnley  0.02         \n",
      "14  46d9048f     80            Scott Twine       Burnley  0.05         \n",
      "15  46d9048f     82                Vitinho       Burnley  0.04         \n",
      "16  46d9048f     83         Charlie Taylor       Burnley  0.00         \n",
      "17  46d9048f     85            Scott Twine       Burnley  0.09         \n",
      "18  46d9048f   90+1            Ian Maatsen       Burnley  0.02  0.02   \n",
      "\n",
      "        Result Distance   Body Part      Notes    SCA 1 Player        Event  \\\n",
      "0        Saved       21   Left Foot                Ian Maatsen  Pass (Live)   \n",
      "1        Saved       14  Right Foot             Dara Costelloe  Pass (Live)   \n",
      "2         Goal       15  Right Foot  Deflected  Josh Brownhill  Pass (Live)   \n",
      "3        Saved        6  Right Foot     Volley     Josh Cullen  Pass (Live)   \n",
      "4        Saved       18  Right Foot     Volley  Dara Costelloe       Fouled   \n",
      "5      Blocked       18  Right Foot               Duane Holmes  Pass (Live)   \n",
      "6   Off Target       12  Right Foot     Volley     Ian Maatsen  Pass (Live)   \n",
      "7      Blocked       21   Left Foot                Ian Maatsen  Pass (Live)   \n",
      "8   Off Target       18   Left Foot                Ian Maatsen  Pass (Live)   \n",
      "9                                                                             \n",
      "10  Off Target       29  Right Foot                Ian Maatsen  Pass (Live)   \n",
      "11  Off Target       18   Left Foot     Volley                                \n",
      "12       Saved        8        Head             Charlie Taylor  Pass (Live)   \n",
      "13  Off Target       27   Left Foot                Josh Cullen  Pass (Live)   \n",
      "14     Blocked       14   Left Foot                Ian Maatsen  Pass (Live)   \n",
      "15     Blocked       18   Left Foot     Volley         Vitinho       Fouled   \n",
      "16  Off Target       20   Left Foot     Volley         Vitinho  Pass (Live)   \n",
      "17    Woodwork       23  Right Foot  Free kick         Vitinho       Fouled   \n",
      "18       Saved       24   Left Foot     Volley     Scott Twine  Pass (Live)   \n",
      "\n",
      "             SCA 2 Player        Event     Home_Team Away Team Formation  \\\n",
      "0             Josh Cullen  Pass (Live)  Huddersfield   Burnley   4-1-4-1   \n",
      "1          Josh Brownhill  Pass (Live)  Huddersfield   Burnley   4-1-4-1   \n",
      "2             Ian Maatsen  Pass (Live)  Huddersfield   Burnley   4-1-4-1   \n",
      "3          Connor Roberts  Pass (Live)  Huddersfield   Burnley   4-1-4-1   \n",
      "4                                       Huddersfield   Burnley   4-1-4-1   \n",
      "5           Jonathan Hogg  Pass (Live)  Huddersfield   Burnley   4-1-4-1   \n",
      "6          Josh Brownhill  Pass (Live)  Huddersfield   Burnley   4-1-4-1   \n",
      "7          Samuel Bastien  Pass (Live)  Huddersfield   Burnley   4-1-4-1   \n",
      "8          Samuel Bastien         Shot  Huddersfield   Burnley   4-1-4-1   \n",
      "9                                       Huddersfield   Burnley   4-1-4-1   \n",
      "10  Taylor Harwood-Bellis  Pass (Live)  Huddersfield   Burnley   4-1-4-1   \n",
      "11                                      Huddersfield   Burnley   4-1-4-1   \n",
      "12         Charlie Taylor  Pass (Live)  Huddersfield   Burnley   4-1-4-1   \n",
      "13                                      Huddersfield   Burnley   4-1-4-1   \n",
      "14         Josh Brownhill  Pass (Live)  Huddersfield   Burnley   4-1-4-1   \n",
      "15          Ashley Barnes  Pass (Live)  Huddersfield   Burnley   4-1-4-1   \n",
      "16            Ian Maatsen  Pass (Live)  Huddersfield   Burnley   4-1-4-1   \n",
      "17            Scott Twine  Pass (Live)  Huddersfield   Burnley   4-1-4-1   \n",
      "18         Connor Roberts  Pass (Dead)  Huddersfield   Burnley   4-1-4-1   \n",
      "\n",
      "   Opponent Formation  \n",
      "0               4-3-3  \n",
      "1               4-3-3  \n",
      "2               4-3-3  \n",
      "3               4-3-3  \n",
      "4               4-3-3  \n",
      "5               4-3-3  \n",
      "6               4-3-3  \n",
      "7               4-3-3  \n",
      "8               4-3-3  \n",
      "9               4-3-3  \n",
      "10              4-3-3  \n",
      "11              4-3-3  \n",
      "12              4-3-3  \n",
      "13              4-3-3  \n",
      "14              4-3-3  \n",
      "15              4-3-3  \n",
      "16              4-3-3  \n",
      "17              4-3-3  \n",
      "18              4-3-3  \n"
     ]
    }
   ],
   "source": [
    "# Your existing code...\n",
    "\n",
    "# Create a DataFrame from the scraped data\n",
    "shots_df = pd.DataFrame(data, columns=headers)\n",
    "\n",
    "# Add the team, away team, formation, and opponent formation information to the DataFrame\n",
    "shots_df['Home_Team'] = home_team\n",
    "shots_df['Away Team'] = away_team\n",
    "shots_df['Formation'] = home_formation\n",
    "shots_df['Opponent Formation'] = away_formation\n",
    "\n",
    "# Print the DataFrame\n"
   ]
  },
  {
   "cell_type": "code",
   "execution_count": null,
   "id": "2bd4e851",
   "metadata": {},
   "outputs": [],
   "source": [
    "#Add logic for is_home_team_shot and is_away_team_shot"
   ]
  },
  {
   "cell_type": "code",
   "execution_count": null,
   "id": "1730ae75",
   "metadata": {},
   "outputs": [],
   "source": []
  }
 ],
 "metadata": {
  "kernelspec": {
   "display_name": "Python 3 (ipykernel)",
   "language": "python",
   "name": "python3"
  },
  "language_info": {
   "codemirror_mode": {
    "name": "ipython",
    "version": 3
   },
   "file_extension": ".py",
   "mimetype": "text/x-python",
   "name": "python",
   "nbconvert_exporter": "python",
   "pygments_lexer": "ipython3",
   "version": "3.9.7"
  }
 },
 "nbformat": 4,
 "nbformat_minor": 5
}
