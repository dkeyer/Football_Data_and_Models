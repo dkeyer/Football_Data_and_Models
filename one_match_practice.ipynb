{
 "cells": [
  {
   "cell_type": "code",
   "execution_count": 47,
   "id": "0b59e7ef",
   "metadata": {},
   "outputs": [],
   "source": [
    "import requests\n",
    "from bs4 import BeautifulSoup\n",
    "import pandas as pd\n",
    "import numpy as np\n",
    "\n",
    "# URL of the page to scrape\n",
    "url = \"https://fbref.com/en/matches/46d9048f/\"\n",
    "\n",
    "# Get the game ID from the URL\n",
    "game_id = url.split(\"/\")[-2]\n",
    "\n",
    "# Send a GET request to the URL\n",
    "response = requests.get(url)\n",
    "soup = BeautifulSoup(response.content, \"html.parser\")\n",
    "\n",
    "# Find the Shots table on the page\n",
    "shots_table = soup.find(\"div\", {\"id\": \"switcher_shots\"})\n",
    "\n",
    "# Create empty lists to store data and create the columns\n",
    "data = []\n",
    "headers = ['Game_ID', 'Minute', 'Player', 'Team', 'xG', 'PSxG', 'Result', 'Distance', 'Body Part', 'Notes', 'SCA 1 Player', 'Event', 'SCA 2 Player', 'Event']\n",
    "\n",
    "# Extract table rows\n",
    "rows = shots_table.find(\"tbody\").find_all(\"tr\")\n",
    "for row in rows:\n",
    "    row_data = [game_id] + [cell.get_text().strip() for cell in row.find_all([\"th\", \"td\"])]\n",
    "    data.append(row_data)\n",
    "\n",
    "# Create a DataFrame from the scraped data\n",
    "shots_df = pd.DataFrame(data, columns=headers)\n",
    "\n",
    "# Your existing code...\n",
    "\n",
    "# Find the home and away teams and formations\n",
    "team_headers = soup.find_all(\"th\", {\"colspan\": \"2\"})\n",
    "teams = [header.text.strip().split(\" (\")[0] for header in team_headers if \"(\" in header.text.strip()]\n",
    "formations = [header.text.strip().split(\" (\")[1][:-1] for header in team_headers if \"(\" in header.text.strip()]\n",
    "\n",
    "# Extracting the home and away teams and formations\n",
    "home_team = teams[0]\n",
    "away_team = teams[1]\n",
    "home_formation = formations[0]\n",
    "away_formation = formations[1]\n",
    "\n",
    "# Find the competition -- only using .find because there are multiple in the HTML and we only need one, then take only the text\n",
    "competition = soup.find(\"a\", {\"href\": \"/en/comps/10/2022-2023/2022-2023-Championship-Stats\"}).text\n",
    "\n",
    "# Create a DataFrame from the scraped data\n",
    "shots_df = pd.DataFrame(data, columns=headers)\n",
    "\n",
    "# Add the team, away team, formation, and opponent formation information to the DataFrame\n",
    "shots_df['Home_Team'] = home_team\n",
    "shots_df['Away_Team'] = away_team\n",
    "shots_df['Home Formation'] = home_formation\n",
    "shots_df['Away Formation'] = away_formation\n",
    "shots_df['is_home_shot'] = np.where(shots_df['Team'] == home_team, 1, 0)\n",
    "shots_df['is_away_shot'] = np.where(shots_df['Team'] ==  away_team, 1, 0)"
   ]
  },
  {
   "cell_type": "code",
   "execution_count": 50,
   "id": "fe4dcb7f",
   "metadata": {},
   "outputs": [
    {
     "ename": "AttributeError",
     "evalue": "'NoneType' object has no attribute 'find'",
     "output_type": "error",
     "traceback": [
      "\u001b[1;31m---------------------------------------------------------------------------\u001b[0m",
      "\u001b[1;31mAttributeError\u001b[0m                            Traceback (most recent call last)",
      "\u001b[1;32m~\\AppData\\Local\\Temp/ipykernel_2720/427477545.py\u001b[0m in \u001b[0;36m<module>\u001b[1;34m\u001b[0m\n\u001b[0;32m      3\u001b[0m \u001b[1;33m\u001b[0m\u001b[0m\n\u001b[0;32m      4\u001b[0m \u001b[1;31m# Extract the date\u001b[0m\u001b[1;33m\u001b[0m\u001b[1;33m\u001b[0m\u001b[0m\n\u001b[1;32m----> 5\u001b[1;33m \u001b[0mmatch_date\u001b[0m \u001b[1;33m=\u001b[0m \u001b[0mdate_element\u001b[0m\u001b[1;33m.\u001b[0m\u001b[0mfind\u001b[0m\u001b[1;33m(\u001b[0m\u001b[1;34m\"span\"\u001b[0m\u001b[1;33m,\u001b[0m \u001b[0mclass_\u001b[0m\u001b[1;33m=\u001b[0m\u001b[1;34m\"venuetime\"\u001b[0m\u001b[1;33m)\u001b[0m\u001b[1;33m.\u001b[0m\u001b[0mget_text\u001b[0m\u001b[1;33m(\u001b[0m\u001b[0mstrip\u001b[0m\u001b[1;33m=\u001b[0m\u001b[1;32mTrue\u001b[0m\u001b[1;33m)\u001b[0m\u001b[1;33m\u001b[0m\u001b[1;33m\u001b[0m\u001b[0m\n\u001b[0m\u001b[0;32m      6\u001b[0m \u001b[1;33m\u001b[0m\u001b[0m\n\u001b[0;32m      7\u001b[0m \u001b[1;31m# Print the date\u001b[0m\u001b[1;33m\u001b[0m\u001b[1;33m\u001b[0m\u001b[0m\n",
      "\u001b[1;31mAttributeError\u001b[0m: 'NoneType' object has no attribute 'find'"
     ]
    }
   ],
   "source": [
    "# Find the date element\n",
    "date_element = soup.find(\"h2\", class_=\"scorebox\")\n",
    "\n",
    "# Extract the date\n",
    "match_date = date_element.find(\"span\", class_=\"venuetime\").get_text(strip=True)\n",
    "\n",
    "# Print the date\n",
    "print(match_date)\n"
   ]
  },
  {
   "cell_type": "code",
   "execution_count": 52,
   "id": "bf3f128d",
   "metadata": {},
   "outputs": [
    {
     "data": {
      "text/plain": [
       "[]"
      ]
     },
     "execution_count": 52,
     "metadata": {},
     "output_type": "execute_result"
    }
   ],
   "source": [
    "soup.find_all(\"div\", {\"class\" : \"scorebox_meta\"})\n",
    "#Logic for getting location"
   ]
  },
  {
   "cell_type": "code",
   "execution_count": null,
   "id": "ce470dd7",
   "metadata": {},
   "outputs": [],
   "source": []
  }
 ],
 "metadata": {
  "kernelspec": {
   "display_name": "Python 3 (ipykernel)",
   "language": "python",
   "name": "python3"
  },
  "language_info": {
   "codemirror_mode": {
    "name": "ipython",
    "version": 3
   },
   "file_extension": ".py",
   "mimetype": "text/x-python",
   "name": "python",
   "nbconvert_exporter": "python",
   "pygments_lexer": "ipython3",
   "version": "3.9.7"
  }
 },
 "nbformat": 4,
 "nbformat_minor": 5
}
