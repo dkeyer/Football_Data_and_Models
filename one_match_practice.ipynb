{
 "cells": [
  {
   "cell_type": "code",
   "execution_count": 7,
   "id": "0b59e7ef",
   "metadata": {},
   "outputs": [
    {
     "name": "stdout",
     "output_type": "stream",
     "text": [
      "     Game_ID Minute                 Player          Team    xG  PSxG  \\\n",
      "0   46d9048f     11            Josh Cullen       Burnley  0.07  0.02   \n",
      "1   46d9048f     14          Ashley Barnes       Burnley  0.06  0.34   \n",
      "2   46d9048f     18            Ian Maatsen       Burnley  0.05  0.28   \n",
      "3   46d9048f     20         Connor Roberts       Burnley  0.21  0.88   \n",
      "4   46d9048f     24         Josh Brownhill       Burnley  0.03  0.20   \n",
      "5   46d9048f     38            Josh Koroma  Huddersfield  0.04         \n",
      "6   46d9048f     40         Dara Costelloe       Burnley  0.23         \n",
      "7   46d9048f     44         Samuel Bastien       Burnley  0.06         \n",
      "8   46d9048f     45         Dara Costelloe       Burnley  0.06         \n",
      "9   46d9048f                                                           \n",
      "10  46d9048f     69         Josh Brownhill       Burnley  0.03         \n",
      "11  46d9048f     74             Danny Ward  Huddersfield  0.05         \n",
      "12  46d9048f     76  Taylor Harwood-Bellis       Burnley  0.04  0.11   \n",
      "13  46d9048f     77            Ian Maatsen       Burnley  0.02         \n",
      "14  46d9048f     80            Scott Twine       Burnley  0.05         \n",
      "15  46d9048f     82                Vitinho       Burnley  0.04         \n",
      "16  46d9048f     83         Charlie Taylor       Burnley  0.00         \n",
      "17  46d9048f     85            Scott Twine       Burnley  0.09         \n",
      "18  46d9048f   90+1            Ian Maatsen       Burnley  0.02  0.02   \n",
      "\n",
      "        Result Distance   Body Part      Notes    SCA 1 Player        Event  \\\n",
      "0        Saved       21   Left Foot                Ian Maatsen  Pass (Live)   \n",
      "1        Saved       14  Right Foot             Dara Costelloe  Pass (Live)   \n",
      "2         Goal       15  Right Foot  Deflected  Josh Brownhill  Pass (Live)   \n",
      "3        Saved        6  Right Foot     Volley     Josh Cullen  Pass (Live)   \n",
      "4        Saved       18  Right Foot     Volley  Dara Costelloe       Fouled   \n",
      "5      Blocked       18  Right Foot               Duane Holmes  Pass (Live)   \n",
      "6   Off Target       12  Right Foot     Volley     Ian Maatsen  Pass (Live)   \n",
      "7      Blocked       21   Left Foot                Ian Maatsen  Pass (Live)   \n",
      "8   Off Target       18   Left Foot                Ian Maatsen  Pass (Live)   \n",
      "9                                                                             \n",
      "10  Off Target       29  Right Foot                Ian Maatsen  Pass (Live)   \n",
      "11  Off Target       18   Left Foot     Volley                                \n",
      "12       Saved        8        Head             Charlie Taylor  Pass (Live)   \n",
      "13  Off Target       27   Left Foot                Josh Cullen  Pass (Live)   \n",
      "14     Blocked       14   Left Foot                Ian Maatsen  Pass (Live)   \n",
      "15     Blocked       18   Left Foot     Volley         Vitinho       Fouled   \n",
      "16  Off Target       20   Left Foot     Volley         Vitinho  Pass (Live)   \n",
      "17    Woodwork       23  Right Foot  Free kick         Vitinho       Fouled   \n",
      "18       Saved       24   Left Foot     Volley     Scott Twine  Pass (Live)   \n",
      "\n",
      "             SCA 2 Player        Event  \n",
      "0             Josh Cullen  Pass (Live)  \n",
      "1          Josh Brownhill  Pass (Live)  \n",
      "2             Ian Maatsen  Pass (Live)  \n",
      "3          Connor Roberts  Pass (Live)  \n",
      "4                                       \n",
      "5           Jonathan Hogg  Pass (Live)  \n",
      "6          Josh Brownhill  Pass (Live)  \n",
      "7          Samuel Bastien  Pass (Live)  \n",
      "8          Samuel Bastien         Shot  \n",
      "9                                       \n",
      "10  Taylor Harwood-Bellis  Pass (Live)  \n",
      "11                                      \n",
      "12         Charlie Taylor  Pass (Live)  \n",
      "13                                      \n",
      "14         Josh Brownhill  Pass (Live)  \n",
      "15          Ashley Barnes  Pass (Live)  \n",
      "16            Ian Maatsen  Pass (Live)  \n",
      "17            Scott Twine  Pass (Live)  \n",
      "18         Connor Roberts  Pass (Dead)  \n"
     ]
    }
   ],
   "source": [
    "import requests\n",
    "from bs4 import BeautifulSoup\n",
    "import pandas as pd\n",
    "\n",
    "# URL of the page to scrape\n",
    "url = \"https://fbref.com/en/matches/46d9048f/Huddersfield-Town-Burnley-July-29-2022-Championship\"\n",
    "\n",
    "# Get the game ID from the URL\n",
    "game_id = url.split(\"/\")[-2]\n",
    "\n",
    "# Send a GET request to the URL\n",
    "response = requests.get(url)\n",
    "soup = BeautifulSoup(response.content, \"html.parser\")\n",
    "\n",
    "# Find the Shots table on the page\n",
    "shots_table = soup.find(\"div\", {\"id\": \"switcher_shots\"})\n",
    "\n",
    "# Create empty lists to store data and create the columns\n",
    "data = []\n",
    "headers = ['Game_ID', 'Minute', 'Player', 'Team', 'xG', 'PSxG', 'Result', 'Distance', 'Body Part', 'Notes', 'SCA 1 Player', 'Event', 'SCA 2 Player', 'Event']\n",
    "\n",
    "# Extract table rows\n",
    "rows = shots_table.find(\"tbody\").find_all(\"tr\")\n",
    "for row in rows:\n",
    "    row_data = [game_id] + [cell.get_text().strip() for cell in row.find_all([\"th\", \"td\"])]\n",
    "    data.append(row_data)\n",
    "\n",
    "# Create a DataFrame from the scraped data\n",
    "shots_df = pd.DataFrame(data, columns=headers)\n",
    "\n",
    "\n",
    "# Print the DataFrame\n",
    "print(shots_df)\n"
   ]
  },
  {
   "cell_type": "code",
   "execution_count": 8,
   "id": "bb93779d",
   "metadata": {},
   "outputs": [],
   "source": [
    "both_teams = soup.find_all(\"th\", {\"colspan\": \"2\"})"
   ]
  },
  {
   "cell_type": "code",
   "execution_count": 9,
   "id": "3283ccb0",
   "metadata": {},
   "outputs": [],
   "source": [
    "both_teams_2 = soup.find_all(\"div\", {\"class\": \"lineup\"})"
   ]
  },
  {
   "cell_type": "code",
   "execution_count": 10,
   "id": "be67578f",
   "metadata": {},
   "outputs": [
    {
     "name": "stdout",
     "output_type": "stream",
     "text": [
      "Home Team: Huddersfield\n",
      "Away Team: Burnley\n",
      "Home Formation: 4-1-4-1\n",
      "Away Formation: 4-3-3\n"
     ]
    }
   ],
   "source": [
    "# Your existing code...\n",
    "\n",
    "# Find the home and away teams and formations\n",
    "team_headers = soup.find_all(\"th\", {\"colspan\": \"2\"})\n",
    "teams = [header.text.strip().split(\" (\")[0] for header in team_headers if \"(\" in header.text.strip()]\n",
    "formations = [header.text.strip().split(\" (\")[1][:-1] for header in team_headers if \"(\" in header.text.strip()]\n",
    "\n",
    "# Extracting the home and away teams and formations\n",
    "home_team = teams[0]\n",
    "away_team = teams[1]\n",
    "home_formation = formations[0]\n",
    "away_formation = formations[1]\n",
    "\n",
    "# Your existing code...\n",
    "\n",
    "# Print the home and away teams and formations\n",
    "print(f\"Home Team: {home_team}\")\n",
    "print(f\"Away Team: {away_team}\")\n",
    "print(f\"Home Formation: {home_formation}\")\n",
    "print(f\"Away Formation: {away_formation}\")\n"
   ]
  },
  {
   "cell_type": "code",
   "execution_count": null,
   "id": "0f389d99",
   "metadata": {},
   "outputs": [],
   "source": []
  },
  {
   "cell_type": "code",
   "execution_count": null,
   "id": "0cdf4278",
   "metadata": {},
   "outputs": [],
   "source": []
  }
 ],
 "metadata": {
  "kernelspec": {
   "display_name": "Python 3 (ipykernel)",
   "language": "python",
   "name": "python3"
  },
  "language_info": {
   "codemirror_mode": {
    "name": "ipython",
    "version": 3
   },
   "file_extension": ".py",
   "mimetype": "text/x-python",
   "name": "python",
   "nbconvert_exporter": "python",
   "pygments_lexer": "ipython3",
   "version": "3.9.7"
  }
 },
 "nbformat": 4,
 "nbformat_minor": 5
}
